{
 "cells": [
  {
   "cell_type": "code",
   "execution_count": 1,
   "metadata": {},
   "outputs": [
    {
     "data": {
      "text/plain": [
       "0.3383333333333334"
      ]
     },
     "execution_count": 1,
     "metadata": {},
     "output_type": "execute_result"
    }
   ],
   "source": [
    "normalizedScores = {(\"b6e71c034fa5e34b5d8a9199208d53cb\", 76): 0.3, (\"b6e71c034fa5e34b5d8a9199208d53cb\", 176): 0.85, (\"b6e71c034fa5e34b5d8a9199208d53cb\", 85): 0.4}\n",
    "powers = {176:0.5, 76:0.9, 85:0.8}\n",
    "def getIntegratedAdomniScore(normalizedScores, powers):\n",
    "    integratedAdomniScore = 0\n",
    "    for locationhash_and_segId in normalizedScores:\n",
    "        integratedAdomniScore = integratedAdomniScore + normalizedScores[locationhash_and_segId] * powers[locationhash_and_segId[1]] \n",
    "    return integratedAdomniScore/len(normalizedScores)\n",
    "\n",
    "getIntegratedAdomniScore(normalizedScores, powers)"
   ]
  },
  {
   "cell_type": "code",
   "execution_count": 2,
   "metadata": {},
   "outputs": [],
   "source": [
    "import json\n",
    "with open('DynamoDBtoCSV-master/config.json') as f:\n",
    "    Tuo_authentications = json.load(f)"
   ]
  },
  {
   "cell_type": "code",
   "execution_count": 5,
   "metadata": {},
   "outputs": [
    {
     "name": "stdout",
     "output_type": "stream",
     "text": [
      "Execution ID: 90692063-f50d-46da-8c14-beddd0d12b3f\n",
      "{'QueryExecutionId': '90692063-f50d-46da-8c14-beddd0d12b3f', 'ResponseMetadata': {'RequestId': '45e226b5-d1c3-43aa-b646-072ca3385bb6', 'HTTPStatusCode': 200, 'HTTPHeaders': {'content-type': 'application/x-amz-json-1.1', 'date': 'Sun, 13 Oct 2019 15:24:59 GMT', 'x-amzn-requestid': '45e226b5-d1c3-43aa-b646-072ca3385bb6', 'content-length': '59', 'connection': 'keep-alive'}, 'RetryAttempts': 0}}\n"
     ]
    }
   ],
   "source": [
    "import boto3\n",
    "def run_query(query, s3_output):\n",
    "    client = boto3.client('athena',\n",
    "                           aws_access_key_id = Tuo_authentications['accessKeyId'],\n",
    "                           aws_secret_access_key = Tuo_authentications['secretAccessKey'],\n",
    "                           region_name = Tuo_authentications[\"region\"])\n",
    "    response = client.start_query_execution(\n",
    "        QueryString = query,\n",
    "        QueryExecutionContext = {\n",
    "          'Database': 'default'\n",
    "        },\n",
    "        ResultConfiguration = {\n",
    "            'OutputLocation': s3_output,\n",
    "            'EncryptionConfiguration': {\n",
    "                'EncryptionOption': 'SSE_S3'\n",
    "            }\n",
    "        }\n",
    "        \n",
    "    )\n",
    "    print('Execution ID: ' + response['QueryExecutionId'])\n",
    "    return response\n",
    "\n",
    "\n",
    "s3_output = 's3://tuo-bucket/playing'\n",
    "\n",
    "query = \"select * from adomni_audience_segment where id='{ID}';\"\n",
    "\n",
    "params = {\"ID\":\"740\"}\n",
    "\n",
    "QueryResponse = run_query(query.format(**params), s3_output)\n",
    "print(QueryResponse)\n",
    "QueryExecutionId = QueryResponse['QueryExecutionId']"
   ]
  }
 ],
 "metadata": {
  "kernelspec": {
   "display_name": "Python 3",
   "language": "python",
   "name": "python3"
  },
  "language_info": {
   "codemirror_mode": {
    "name": "ipython",
    "version": 3
   },
   "file_extension": ".py",
   "mimetype": "text/x-python",
   "name": "python",
   "nbconvert_exporter": "python",
   "pygments_lexer": "ipython3",
   "version": "3.6.4"
  }
 },
 "nbformat": 4,
 "nbformat_minor": 2
}
