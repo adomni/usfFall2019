{
 "cells": [
  {
   "cell_type": "code",
   "execution_count": 36,
   "metadata": {},
   "outputs": [],
   "source": [
    "import json\n",
    "with open('../Tuo_authentications.json') as f:\n",
    "    Tuo_authentications = json.load(f)\n"
   ]
  },
  {
   "cell_type": "code",
   "execution_count": 59,
   "metadata": {},
   "outputs": [
    {
     "name": "stdout",
     "output_type": "stream",
     "text": [
      "{'TableNames': ['awseb-e-7d5pqhe4fb-stack-AWSEBWorkerCronLeaderRegistry-3CSA53KDCXWT', 'awseb-e-cm3tq3nyt5-stack-AWSEBWorkerCronLeaderRegistry-CEJKBWPGT3GH', 'awseb-e-zpnacgqw6v-stack-AWSEBWorkerCronLeaderRegistry-IVKF7204IKQ6', 'broadsign-reach-bid-request-log', 'hivestack-bid-request-log', 'location-audience-2019-03-08', 'location-audience-2019-05-20', 'location-audience-2019-08-09', 'location-audience-2019-08-17', 'open-rtb-bad-request', 'php-api', 'player-api', 'player-command', 'player-heartbeat', 'player-monitor', 'player-played-record', 'player-plays', 'player-status', 'player-unprocessed', 'plays', 'queue-device-play-requests', 'sync-locks', 'vast-request-log', 'viooh-bid-request-log', 'website-sessions', 'z-temp-plays'], 'ResponseMetadata': {'RequestId': 'JMPTNO6NO2FJ9T209CST11MTHNVV4KQNSO5AEMVJF66Q9ASUAAJG', 'HTTPStatusCode': 200, 'HTTPHeaders': {'server': 'Server', 'date': 'Mon, 16 Sep 2019 03:27:09 GMT', 'content-type': 'application/x-amz-json-1.0', 'content-length': '713', 'connection': 'keep-alive', 'x-amzn-requestid': 'JMPTNO6NO2FJ9T209CST11MTHNVV4KQNSO5AEMVJF66Q9ASUAAJG', 'x-amz-crc32': '3960533789'}, 'RetryAttempts': 0}}\n"
     ]
    }
   ],
   "source": [
    "import boto3\n",
    "\n",
    "dynamodb_client = boto3.client('dynamodb',\n",
    "                               aws_access_key_id = Tuo_authentications['Access key ID'],\n",
    "                               aws_secret_access_key = Tuo_authentications['Secret access key'],\n",
    "                               region_name = \"us-east-1\"\n",
    ")\n",
    "existing_tables = dynamodb_client.list_tables()\n",
    "print(existing_tables)\n"
   ]
  },
  {
   "cell_type": "code",
   "execution_count": 60,
   "metadata": {},
   "outputs": [
    {
     "name": "stdout",
     "output_type": "stream",
     "text": [
      "{'Items': [], 'Count': 0, 'ScannedCount': 0, 'ResponseMetadata': {'RequestId': 'M4C1OULL5VCP12EVHIATHF2V5BVV4KQNSO5AEMVJF66Q9ASUAAJG', 'HTTPStatusCode': 200, 'HTTPHeaders': {'server': 'Server', 'date': 'Mon, 16 Sep 2019 03:27:11 GMT', 'content-type': 'application/x-amz-json-1.0', 'content-length': '39', 'connection': 'keep-alive', 'x-amzn-requestid': 'M4C1OULL5VCP12EVHIATHF2V5BVV4KQNSO5AEMVJF66Q9ASUAAJG', 'x-amz-crc32': '3413411624'}, 'RetryAttempts': 0}}\n"
     ]
    }
   ],
   "source": [
    "import boto3\n",
    "from boto3.dynamodb.conditions import Key, Attr\n",
    "\n",
    "dynamodb = boto3.resource('dynamodb',\n",
    "                          aws_access_key_id = Tuo_authentications['Access key ID'],\n",
    "                          aws_secret_access_key = Tuo_authentications['Secret access key'],\n",
    "                          region_name = \"us-east-1\"\n",
    ")\n",
    "\n",
    "\n",
    "table = dynamodb.Table('location-audience-2019-08-17')\n",
    "\n",
    "response = table.query(\n",
    "    KeyConditionExpression=Key('locationHash').eq('ac0e4be8494c4c34a4c8c4e1ca47253c')\n",
    ")\n",
    "print(response)\n"
   ]
  },
  {
   "cell_type": "code",
   "execution_count": null,
   "metadata": {},
   "outputs": [],
   "source": []
  }
 ],
 "metadata": {
  "kernelspec": {
   "display_name": "Python 3",
   "language": "python",
   "name": "python3"
  },
  "language_info": {
   "codemirror_mode": {
    "name": "ipython",
    "version": 3
   },
   "file_extension": ".py",
   "mimetype": "text/x-python",
   "name": "python",
   "nbconvert_exporter": "python",
   "pygments_lexer": "ipython3",
   "version": "3.6.4"
  }
 },
 "nbformat": 4,
 "nbformat_minor": 2
}
