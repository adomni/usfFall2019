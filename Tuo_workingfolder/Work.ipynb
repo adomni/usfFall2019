{
 "cells": [
  {
   "cell_type": "code",
   "execution_count": 1,
   "metadata": {},
   "outputs": [
    {
     "data": {
      "text/plain": [
       "0.3383333333333334"
      ]
     },
     "execution_count": 1,
     "metadata": {},
     "output_type": "execute_result"
    }
   ],
   "source": [
    "normalizedScores = {(\"b6e71c034fa5e34b5d8a9199208d53cb\", 76): 0.3, (\"b6e71c034fa5e34b5d8a9199208d53cb\", 176): 0.85, (\"b6e71c034fa5e34b5d8a9199208d53cb\", 85): 0.4}\n",
    "powers = {176:0.5, 76:0.9, 85:0.8}\n",
    "def getIntegratedAdomniScore(normalizedScores, powers):\n",
    "    integratedAdomniScore = 0\n",
    "    for locationhash_and_segId in normalizedScores:\n",
    "        integratedAdomniScore = integratedAdomniScore + normalizedScores[locationhash_and_segId] * powers[locationhash_and_segId[1]] \n",
    "    return integratedAdomniScore/len(normalizedScores)\n",
    "\n",
    "getIntegratedAdomniScore(normalizedScores, powers)"
   ]
  },
  {
   "cell_type": "code",
   "execution_count": 2,
   "metadata": {},
   "outputs": [],
   "source": [
    "import json\n",
    "with open('DynamoDBtoCSV-master/config.json') as f:\n",
    "    Tuo_authentications = json.load(f)"
   ]
  },
  {
   "cell_type": "code",
   "execution_count": 5,
   "metadata": {},
   "outputs": [
    {
     "name": "stdout",
     "output_type": "stream",
     "text": [
      "Execution ID: 90692063-f50d-46da-8c14-beddd0d12b3f\n",
      "{'QueryExecutionId': '90692063-f50d-46da-8c14-beddd0d12b3f', 'ResponseMetadata': {'RequestId': '45e226b5-d1c3-43aa-b646-072ca3385bb6', 'HTTPStatusCode': 200, 'HTTPHeaders': {'content-type': 'application/x-amz-json-1.1', 'date': 'Sun, 13 Oct 2019 15:24:59 GMT', 'x-amzn-requestid': '45e226b5-d1c3-43aa-b646-072ca3385bb6', 'content-length': '59', 'connection': 'keep-alive'}, 'RetryAttempts': 0}}\n"
     ]
    }
   ],
   "source": [
    "import boto3\n",
    "def run_query(query, s3_output):\n",
    "    client = boto3.client('athena',\n",
    "                           aws_access_key_id = Tuo_authentications['accessKeyId'],\n",
    "                           aws_secret_access_key = Tuo_authentications['secretAccessKey'],\n",
    "                           region_name = Tuo_authentications[\"region\"])\n",
    "    response = client.start_query_execution(\n",
    "        QueryString = query,\n",
    "        QueryExecutionContext = {\n",
    "          'Database': 'default'\n",
    "        },\n",
    "        ResultConfiguration = {\n",
    "            'OutputLocation': s3_output,\n",
    "            'EncryptionConfiguration': {\n",
    "                'EncryptionOption': 'SSE_S3'\n",
    "            }\n",
    "        }\n",
    "        \n",
    "    )\n",
    "    print('Execution ID: ' + response['QueryExecutionId'])\n",
    "    return response\n",
    "\n",
    "\n",
    "s3_output = 's3://tuo-bucket/playing'\n",
    "\n",
    "query = \"select * from adomni_audience_segment where id='{ID}';\"\n",
    "\n",
    "params = {\"ID\":\"740\"}\n",
    "\n",
    "QueryResponse = run_query(query.format(**params), s3_output)\n",
    "print(QueryResponse)\n",
    "QueryExecutionId = QueryResponse['QueryExecutionId']"
   ]
  },
  {
   "cell_type": "code",
   "execution_count": 28,
   "metadata": {},
   "outputs": [],
   "source": [
    "import json\n",
    "with open('DynamoDBtoCSV-master/config.json') as f:\n",
    "    Tuo_authentications = json.load(f)\n",
    "\n",
    "import boto3\n",
    "from boto3.dynamodb.conditions import Key, Attr\n",
    "\n",
    "dynamodb = boto3.resource('dynamodb',\n",
    "                           aws_access_key_id = Tuo_authentications['accessKeyId'],\n",
    "                           aws_secret_access_key = Tuo_authentications['secretAccessKey'],\n",
    "                           region_name = Tuo_authentications[\"region\"]\n",
    ")\n",
    "\n",
    "\n",
    "table = dynamodb.Table('machine_learning')\n",
    "\n",
    "# rs = list(table.scan(ExclusiveStartKey = 'b01186c0cdbde739e62d794f13792c36623'))\n",
    "# for i in rs:\n",
    "#     print(i['primarykey'])\n"
   ]
  },
  {
   "cell_type": "code",
   "execution_count": 29,
   "metadata": {},
   "outputs": [],
   "source": [
    "response = table.query(\n",
    "    KeyConditionExpression=Key('billboard_audience_segment_id').eq('b01186c0cdbde739e62d794f13792c36623')\n",
    ")\n",
    "# print(response)\n",
    "data = response['Items']"
   ]
  },
  {
   "cell_type": "code",
   "execution_count": 15,
   "metadata": {},
   "outputs": [
    {
     "name": "stdout",
     "output_type": "stream",
     "text": [
      "   week_of_year               count        date  \\\n",
      "0             0                 2.0  2018-12-31   \n",
      "1             1                 2.0  2019-01-07   \n",
      "2            10                 2.0  2019-03-11   \n",
      "3            11                 2.0  2019-03-18   \n",
      "4            12                 2.0  2019-03-25   \n",
      "5            13                 2.0  2019-04-01   \n",
      "6            14                 2.0  2019-04-08   \n",
      "7            15                 2.0  2019-04-15   \n",
      "8            16                 2.0  2019-04-22   \n",
      "9            17                 2.0  2019-04-29   \n",
      "10           18                 2.0  2019-05-06   \n",
      "11           19  2.0714285714285716  2019-05-13   \n",
      "12            2                 2.0  2019-01-14   \n",
      "13           20                 2.0  2019-05-13   \n",
      "14           21   2.142857142857143  2019-05-27   \n",
      "15           22  2.2142857142857144  2019-06-03   \n",
      "16           23  2.2857142857142856  2019-06-10   \n",
      "17           24   2.357142857142857  2019-06-17   \n",
      "18           25  2.4285714285714284  2019-06-24   \n",
      "19           26                 2.5  2019-07-01   \n",
      "20           27   2.571428571428571  2019-07-08   \n",
      "21           28   2.642857142857143  2019-07-15   \n",
      "22           29  2.7142857142857144  2019-07-22   \n",
      "23            3                 2.0  2019-01-21   \n",
      "24           30  2.7857142857142856  2019-07-29   \n",
      "25           31   2.857142857142857  2019-08-05   \n",
      "26           32  2.9285714285714284  2019-08-12   \n",
      "27           33                 3.0  2019-08-17   \n",
      "28           34                2.75  2019-08-26   \n",
      "29           35                 2.5  2019-09-02   \n",
      "30           36                2.25  2019-09-09   \n",
      "31           37                 2.0  2019-09-13   \n",
      "32           38  1.6666666666666667  2019-09-23   \n",
      "33           39  1.3333333333333335  2019-09-30   \n",
      "34            4                 2.0  2019-01-28   \n",
      "35           40                 1.0  2019-10-04   \n",
      "36           41                 3.0  2019-10-11   \n",
      "37           42                 4.0  2019-10-18   \n",
      "38           43                 3.0  2019-10-25   \n",
      "39           44                 2.0  2019-11-01   \n",
      "40           45                 2.0  2019-11-11   \n",
      "41           46                 2.0  2019-11-18   \n",
      "42           47                 2.0  2019-11-25   \n",
      "43           48                 2.0  2019-12-02   \n",
      "44           49                 2.0  2019-12-09   \n",
      "45            5                 2.0  2019-02-04   \n",
      "46           50                 2.0  2019-12-16   \n",
      "47           51                 2.0  2019-12-23   \n",
      "48           52                 2.0  2019-12-30   \n",
      "49            6                 2.0  2019-02-11   \n",
      "50            7                 2.0  2019-02-18   \n",
      "51            8                 2.0  2019-02-25   \n",
      "52            9                 2.0  2019-03-04   \n",
      "\n",
      "          billboard_audience_segment_id  \n",
      "0   b01186c0cdbde739e62d794f13792c36623  \n",
      "1   b01186c0cdbde739e62d794f13792c36623  \n",
      "2   b01186c0cdbde739e62d794f13792c36623  \n",
      "3   b01186c0cdbde739e62d794f13792c36623  \n",
      "4   b01186c0cdbde739e62d794f13792c36623  \n",
      "5   b01186c0cdbde739e62d794f13792c36623  \n",
      "6   b01186c0cdbde739e62d794f13792c36623  \n",
      "7   b01186c0cdbde739e62d794f13792c36623  \n",
      "8   b01186c0cdbde739e62d794f13792c36623  \n",
      "9   b01186c0cdbde739e62d794f13792c36623  \n",
      "10  b01186c0cdbde739e62d794f13792c36623  \n",
      "11  b01186c0cdbde739e62d794f13792c36623  \n",
      "12  b01186c0cdbde739e62d794f13792c36623  \n",
      "13  b01186c0cdbde739e62d794f13792c36623  \n",
      "14  b01186c0cdbde739e62d794f13792c36623  \n",
      "15  b01186c0cdbde739e62d794f13792c36623  \n",
      "16  b01186c0cdbde739e62d794f13792c36623  \n",
      "17  b01186c0cdbde739e62d794f13792c36623  \n",
      "18  b01186c0cdbde739e62d794f13792c36623  \n",
      "19  b01186c0cdbde739e62d794f13792c36623  \n",
      "20  b01186c0cdbde739e62d794f13792c36623  \n",
      "21  b01186c0cdbde739e62d794f13792c36623  \n",
      "22  b01186c0cdbde739e62d794f13792c36623  \n",
      "23  b01186c0cdbde739e62d794f13792c36623  \n",
      "24  b01186c0cdbde739e62d794f13792c36623  \n",
      "25  b01186c0cdbde739e62d794f13792c36623  \n",
      "26  b01186c0cdbde739e62d794f13792c36623  \n",
      "27  b01186c0cdbde739e62d794f13792c36623  \n",
      "28  b01186c0cdbde739e62d794f13792c36623  \n",
      "29  b01186c0cdbde739e62d794f13792c36623  \n",
      "30  b01186c0cdbde739e62d794f13792c36623  \n",
      "31  b01186c0cdbde739e62d794f13792c36623  \n",
      "32  b01186c0cdbde739e62d794f13792c36623  \n",
      "33  b01186c0cdbde739e62d794f13792c36623  \n",
      "34  b01186c0cdbde739e62d794f13792c36623  \n",
      "35  b01186c0cdbde739e62d794f13792c36623  \n",
      "36  b01186c0cdbde739e62d794f13792c36623  \n",
      "37  b01186c0cdbde739e62d794f13792c36623  \n",
      "38  b01186c0cdbde739e62d794f13792c36623  \n",
      "39  b01186c0cdbde739e62d794f13792c36623  \n",
      "40  b01186c0cdbde739e62d794f13792c36623  \n",
      "41  b01186c0cdbde739e62d794f13792c36623  \n",
      "42  b01186c0cdbde739e62d794f13792c36623  \n",
      "43  b01186c0cdbde739e62d794f13792c36623  \n",
      "44  b01186c0cdbde739e62d794f13792c36623  \n",
      "45  b01186c0cdbde739e62d794f13792c36623  \n",
      "46  b01186c0cdbde739e62d794f13792c36623  \n",
      "47  b01186c0cdbde739e62d794f13792c36623  \n",
      "48  b01186c0cdbde739e62d794f13792c36623  \n",
      "49  b01186c0cdbde739e62d794f13792c36623  \n",
      "50  b01186c0cdbde739e62d794f13792c36623  \n",
      "51  b01186c0cdbde739e62d794f13792c36623  \n",
      "52  b01186c0cdbde739e62d794f13792c36623  \n"
     ]
    }
   ],
   "source": [
    "import pandas as pd\n",
    "df = pd.DataFrame(data)\n",
    "print(df)"
   ]
  },
  {
   "cell_type": "code",
   "execution_count": 30,
   "metadata": {},
   "outputs": [
    {
     "name": "stdout",
     "output_type": "stream",
     "text": [
      "[[2.0], [2.0], [2.0], [2.0], [2.0], [2.0], [2.0], [2.0], [2.0], [2.0], [2.0], [2.0714285714285716], [2.0], [2.0], [2.142857142857143], [2.2142857142857144], [2.2857142857142856], [2.357142857142857], [2.4285714285714284], [2.5], [2.571428571428571], [2.642857142857143], [2.7142857142857144], [2.0], [2.7857142857142856], [2.857142857142857], [2.9285714285714284], [3.0], [2.75], [2.5], [2.25], [2.0], [1.6666666666666667], [1.3333333333333335], [2.0], [1.0], [3.0], [4.0], [3.0], [2.0], [2.0], [2.0], [2.0], [2.0], [2.0], [2.0], [2.0], [2.0], [2.0], [2.0], [2.0], [2.0], [2.0]]\n"
     ]
    }
   ],
   "source": [
    "training_set = df.iloc[:,1].values\n",
    "training_set = [[float(i)] for i in training_set]\n",
    "print(training_set)"
   ]
  },
  {
   "cell_type": "code",
   "execution_count": 34,
   "metadata": {},
   "outputs": [],
   "source": [
    "\n",
    "import numpy as np\n",
    "import matplotlib.pyplot as plt\n",
    "import pandas as pd\n",
    "import torch\n",
    "import torch.nn as nn\n",
    "from torch.autograd import Variable\n",
    "from sklearn.preprocessing import MinMaxScaler\n",
    "\n",
    "def sliding_windows(data, seq_length):\n",
    "    x = []\n",
    "    y = []\n",
    "\n",
    "    for i in range(len(data)-seq_length-1):\n",
    "        _x = data[i:(i+seq_length)]\n",
    "        _y = data[i+seq_length]\n",
    "        x.append(_x)\n",
    "        y.append(_y)\n",
    "\n",
    "    return np.array(x),np.array(y)\n",
    "\n",
    "sc = MinMaxScaler()\n",
    "training_data = sc.fit_transform(training_set)\n",
    "\n",
    "seq_length = 20\n",
    "x, y = sliding_windows(training_data, seq_length)\n",
    "\n",
    "train_size = int(len(y) * 0.67)\n",
    "test_size = len(y) - train_size\n",
    "\n",
    "dataX = Variable(torch.Tensor(np.array(x)))\n",
    "dataY = Variable(torch.Tensor(np.array(y)))\n",
    "\n",
    "trainX = Variable(torch.Tensor(np.array(x[0:train_size])))\n",
    "trainY = Variable(torch.Tensor(np.array(y[0:train_size])))\n",
    "\n",
    "testX = Variable(torch.Tensor(np.array(x[train_size:len(x)])))\n",
    "testY = Variable(torch.Tensor(np.array(y[train_size:len(y)])))"
   ]
  },
  {
   "cell_type": "code",
   "execution_count": 35,
   "metadata": {},
   "outputs": [],
   "source": [
    "\n",
    "\n",
    "class LSTM(nn.Module):\n",
    "\n",
    "    def __init__(self, num_classes, input_size, hidden_size, num_layers):\n",
    "        super(LSTM, self).__init__()\n",
    "        \n",
    "        self.num_classes = num_classes\n",
    "        self.num_layers = num_layers\n",
    "        self.input_size = input_size\n",
    "        self.hidden_size = hidden_size\n",
    "        \n",
    "        self.lstm = nn.LSTM(input_size=input_size, hidden_size=hidden_size,\n",
    "                            num_layers=num_layers, batch_first=True)\n",
    "        \n",
    "        self.fc = nn.Linear(hidden_size, num_classes)\n",
    "\n",
    "    def forward(self, x):\n",
    "        h_0 = Variable(torch.zeros(\n",
    "            self.num_layers, x.size(0), self.hidden_size))\n",
    "        \n",
    "        c_0 = Variable(torch.zeros(\n",
    "            self.num_layers, x.size(0), self.hidden_size))\n",
    "        \n",
    "        # Propagate input through LSTM\n",
    "        ula, (h_out, _) = self.lstm(x, (h_0, c_0))\n",
    "        \n",
    "        h_out = h_out.view(-1, self.hidden_size)\n",
    "        \n",
    "        out = self.fc(h_out)\n",
    "        \n",
    "        return out"
   ]
  },
  {
   "cell_type": "code",
   "execution_count": 36,
   "metadata": {},
   "outputs": [
    {
     "name": "stdout",
     "output_type": "stream",
     "text": [
      "Epoch: 0, loss: 0.05239\n",
      "Epoch: 100, loss: 0.03556\n",
      "Epoch: 200, loss: 0.02191\n",
      "Epoch: 300, loss: 0.01637\n",
      "Epoch: 400, loss: 0.01102\n",
      "Epoch: 500, loss: 0.00931\n",
      "Epoch: 600, loss: 0.00827\n",
      "Epoch: 700, loss: 0.00772\n",
      "Epoch: 800, loss: 0.00716\n",
      "Epoch: 900, loss: 0.00667\n",
      "Epoch: 1000, loss: 0.00643\n",
      "Epoch: 1100, loss: 0.00606\n",
      "Epoch: 1200, loss: 0.00579\n",
      "Epoch: 1300, loss: 0.00588\n",
      "Epoch: 1400, loss: 0.00648\n",
      "Epoch: 1500, loss: 0.00534\n",
      "Epoch: 1600, loss: 0.00530\n",
      "Epoch: 1700, loss: 0.00513\n",
      "Epoch: 1800, loss: 0.00600\n",
      "Epoch: 1900, loss: 0.00505\n"
     ]
    }
   ],
   "source": [
    "num_epochs = 2000\n",
    "learning_rate = 0.01\n",
    "\n",
    "input_size = 1\n",
    "hidden_size = 2\n",
    "num_layers = 1\n",
    "\n",
    "num_classes = 1\n",
    "\n",
    "lstm = LSTM(num_classes, input_size, hidden_size, num_layers)\n",
    "\n",
    "criterion = torch.nn.MSELoss()    # mean-squared error for regression\n",
    "optimizer = torch.optim.Adam(lstm.parameters(), lr=learning_rate)\n",
    "#optimizer = torch.optim.SGD(lstm.parameters(), lr=learning_rate)\n",
    "\n",
    "# Train the model\n",
    "for epoch in range(num_epochs):\n",
    "    outputs = lstm(trainX)\n",
    "    optimizer.zero_grad()\n",
    "    \n",
    "    # obtain the loss function\n",
    "    loss = criterion(outputs, trainY)\n",
    "    \n",
    "    loss.backward()\n",
    "    \n",
    "    optimizer.step()\n",
    "    if epoch % 100 == 0:\n",
    "        print(\"Epoch: %d, loss: %1.5f\" % (epoch, loss.item()))"
   ]
  },
  {
   "cell_type": "code",
   "execution_count": 37,
   "metadata": {},
   "outputs": [
    {
     "name": "stdout",
     "output_type": "stream",
     "text": [
      "32\n"
     ]
    },
    {
     "data": {
      "image/png": "[encoded data removed]",
      "text/plain": [
       "<Figure size 432x288 with 1 Axes>"
      ]
     },
     "metadata": {
      "needs_background": "light"
     },
     "output_type": "display_data"
    }
   ],
   "source": [
    "lstm.eval()\n",
    "train_predict = lstm(dataX)\n",
    "\n",
    "data_predict = train_predict.data.numpy()\n",
    "dataY_plot = dataY.data.numpy()\n",
    "\n",
    "data_predict = sc.inverse_transform(data_predict)\n",
    "dataY_plot = sc.inverse_transform(dataY_plot)\n",
    "\n",
    "plt.axvline(x=train_size, c='r', linestyle='--')\n",
    "\n",
    "print(len(dataX))\n",
    "plt.plot(dataY_plot, \"g\", label=\"real_values\", linewidth=2.0)\n",
    "plt.plot(data_predict, \"y\", label=\"prediction\", linewidth=2.0)\n",
    "plt.suptitle('Time-Series Prediction')\n",
    "plt.show()"
   ]
  },
  {
   "cell_type": "code",
   "execution_count": 38,
   "metadata": {},
   "outputs": [
    {
     "ename": "ModuleNotFoundError",
     "evalue": "No module named 'sklearn.metrics'",
     "output_type": "error",
     "traceback": [
      "\u001b[0;31m------------------------------------------\u001b[0m",
      "\u001b[0;31mModuleNotFoundError\u001b[0mTraceback (most recent call last)",
      "\u001b[0;32m<ipython-input-38-f71f03c0bc5e>\u001b[0m in \u001b[0;36m<module>\u001b[0;34m\u001b[0m\n\u001b[0;32m----> 1\u001b[0;31m \u001b[0;32mfrom\u001b[0m \u001b[0msklearn\u001b[0m\u001b[0;34m.\u001b[0m\u001b[0mmetrics\u001b[0m \u001b[0;32mimport\u001b[0m \u001b[0mmean_squared_error\u001b[0m\u001b[0;34m\u001b[0m\u001b[0;34m\u001b[0m\u001b[0m\n\u001b[0m\u001b[1;32m      2\u001b[0m \u001b[0mmse\u001b[0m \u001b[0;34m=\u001b[0m \u001b[0mmean_squared_error\u001b[0m\u001b[0;34m(\u001b[0m\u001b[0my\u001b[0m\u001b[0;34m,\u001b[0m \u001b[0mtrain_predict\u001b[0m\u001b[0;34m)\u001b[0m\u001b[0;34m\u001b[0m\u001b[0;34m\u001b[0m\u001b[0m\n\u001b[1;32m      3\u001b[0m \u001b[0mprint\u001b[0m\u001b[0;34m(\u001b[0m\u001b[0;34m\"RMSE:\"\u001b[0m\u001b[0;34m,\u001b[0m \u001b[0mnp\u001b[0m\u001b[0;34m.\u001b[0m\u001b[0msqrt\u001b[0m\u001b[0;34m(\u001b[0m\u001b[0mmse\u001b[0m\u001b[0;34m)\u001b[0m\u001b[0;34m)\u001b[0m\u001b[0;34m\u001b[0m\u001b[0;34m\u001b[0m\u001b[0m\n",
      "\u001b[0;31mModuleNotFoundError\u001b[0m: No module named 'sklearn.metrics'"
     ]
    }
   ],
   "source": [
    "from sklearn.metrics import mean_squared_error\n",
    "mse = mean_squared_error(y, train_predict)\n",
    "print(\"RMSE:\", np.sqrt(mse))"
   ]
  },
  {
   "cell_type": "code",
   "execution_count": null,
   "metadata": {},
   "outputs": [],
   "source": []
  }
 ],
 "metadata": {
  "kernelspec": {
   "display_name": "Python 3",
   "language": "python",
   "name": "python3"
  },
  "language_info": {
   "codemirror_mode": {
    "name": "ipython",
    "version": 3
   },
   "file_extension": ".py",
   "mimetype": "text/x-python",
   "name": "python",
   "nbconvert_exporter": "python",
   "pygments_lexer": "ipython3",
   "version": "3.6.9"
  }
 },
 "nbformat": 4,
 "nbformat_minor": 2
}
