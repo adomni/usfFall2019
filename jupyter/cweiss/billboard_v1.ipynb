{
 "cells": [
  {
   "cell_type": "code",
   "execution_count": 35,
   "metadata": {},
   "outputs": [
    {
     "name": "stderr",
     "output_type": "stream",
     "text": [
      "/Users/cweiss/workspace/usfFall2019/jupyter/cweiss/venv/lib/python2.7/site-packages/ipykernel_launcher.py:33: DataConversionWarning: Data with input dtype int64, float64 were all converted to float64 by StandardScaler.\n"
     ]
    }
   ],
   "source": [
    "import pandas as pd\n",
    "import numpy as np\n",
    "import matplotlib.pyplot as plt\n",
    "import seaborn as sns\n",
    "%matplotlib inline\n",
    "import csv\n",
    "\n",
    "# Use pandas .read_csv() method to read in a dataset\n",
    "# index_col -> argument assigns the index to a particular column\n",
    "df = pd.read_csv('~/billboards_sample.csv', index_col=0, sep= \",\", quoting=csv.QUOTE_MINIMAL,\n",
    "                 dtype = {\"id\": int, \"locationHash\": str, \n",
    "                                                                   \"name\": str, \"directionId\": int,\n",
    "                                                                   \"directionName\": str, \"lat\": float,\n",
    "                                                                   \"lng\":float, \"googlePlacesId\":str,\n",
    "                                                                    \"typeId\":int,\"typeName\":str})\n",
    "# Use the .head() method to display the first few rows\n",
    "df.head()\n",
    "\n",
    "# Import module to standardize the scale\n",
    "from sklearn.preprocessing import StandardScaler\n",
    "# Create instance (i.e. object) of the standard scaler\n",
    "scaler = StandardScaler()\n",
    "# Fit the object to all the data except the Target Class\n",
    "# use the .drop() method to gather all features except Target Class\n",
    "# axis -> argument refers to columns; a 0 would represent rows\n",
    "df = df.drop('name', axis=1)\n",
    "df = df.drop('googlePlacesId', axis=1)\n",
    "df = df.drop('locationHash', axis=1)\n",
    "df = df.drop('directionName', axis=1)\n",
    "df = df.drop('typeName', axis=1)\n",
    "\n",
    "scaler.fit(df)\n",
    "scaled_features = scaler.transform(df)"
   ]
  },
  {
   "cell_type": "code",
   "execution_count": 36,
   "metadata": {},
   "outputs": [
    {
     "data": {
      "text/plain": [
       "array([[ 2.70459872, -0.30034571, -1.28049703, -2.05253139],\n",
       "       [ 3.96739034, -0.300119  , -1.27789231, -2.05253139],\n",
       "       [ 3.96739034, -0.29991636, -1.27686076, -2.05253139],\n",
       "       ...,\n",
       "       [-0.24191507, -1.58616174, -0.3858977 ,  0.33031448],\n",
       "       [-0.24191507, -1.57979222, -0.38537678,  0.33031448],\n",
       "       [-0.24191507, -1.58499238, -0.37100443,  0.33031448]])"
      ]
     },
     "execution_count": 36,
     "metadata": {},
     "output_type": "execute_result"
    }
   ],
   "source": [
    "# Review the array of values generated from the scaled features process\n",
    "scaled_features"
   ]
  },
  {
   "cell_type": "code",
   "execution_count": 37,
   "metadata": {},
   "outputs": [],
   "source": [
    "df_feat = pd.DataFrame(scaled_features)"
   ]
  },
  {
   "cell_type": "code",
   "execution_count": 38,
   "metadata": {},
   "outputs": [
    {
     "data": {
      "text/html": [
       "<div>\n",
       "<style scoped>\n",
       "    .dataframe tbody tr th:only-of-type {\n",
       "        vertical-align: middle;\n",
       "    }\n",
       "\n",
       "    .dataframe tbody tr th {\n",
       "        vertical-align: top;\n",
       "    }\n",
       "\n",
       "    .dataframe thead th {\n",
       "        text-align: right;\n",
       "    }\n",
       "</style>\n",
       "<table border=\"1\" class=\"dataframe\">\n",
       "  <thead>\n",
       "    <tr style=\"text-align: right;\">\n",
       "      <th></th>\n",
       "      <th>0</th>\n",
       "      <th>1</th>\n",
       "      <th>2</th>\n",
       "      <th>3</th>\n",
       "    </tr>\n",
       "  </thead>\n",
       "  <tbody>\n",
       "    <tr>\n",
       "      <th>0</th>\n",
       "      <td>2.704599</td>\n",
       "      <td>-0.300346</td>\n",
       "      <td>-1.280497</td>\n",
       "      <td>-2.052531</td>\n",
       "    </tr>\n",
       "    <tr>\n",
       "      <th>1</th>\n",
       "      <td>3.967390</td>\n",
       "      <td>-0.300119</td>\n",
       "      <td>-1.277892</td>\n",
       "      <td>-2.052531</td>\n",
       "    </tr>\n",
       "    <tr>\n",
       "      <th>2</th>\n",
       "      <td>3.967390</td>\n",
       "      <td>-0.299916</td>\n",
       "      <td>-1.276861</td>\n",
       "      <td>-2.052531</td>\n",
       "    </tr>\n",
       "    <tr>\n",
       "      <th>3</th>\n",
       "      <td>4.388321</td>\n",
       "      <td>-0.301926</td>\n",
       "      <td>-1.276300</td>\n",
       "      <td>-2.052531</td>\n",
       "    </tr>\n",
       "    <tr>\n",
       "      <th>4</th>\n",
       "      <td>4.809251</td>\n",
       "      <td>-0.317519</td>\n",
       "      <td>-1.276328</td>\n",
       "      <td>-2.052531</td>\n",
       "    </tr>\n",
       "  </tbody>\n",
       "</table>\n",
       "</div>"
      ],
      "text/plain": [
       "          0         1         2         3\n",
       "0  2.704599 -0.300346 -1.280497 -2.052531\n",
       "1  3.967390 -0.300119 -1.277892 -2.052531\n",
       "2  3.967390 -0.299916 -1.276861 -2.052531\n",
       "3  4.388321 -0.301926 -1.276300 -2.052531\n",
       "4  4.809251 -0.317519 -1.276328 -2.052531"
      ]
     },
     "execution_count": 38,
     "metadata": {},
     "output_type": "execute_result"
    }
   ],
   "source": [
    "df_feat.head()"
   ]
  },
  {
   "cell_type": "code",
   "execution_count": null,
   "metadata": {},
   "outputs": [],
   "source": []
  }
 ],
 "metadata": {
  "kernelspec": {
   "display_name": "Python 2",
   "language": "python",
   "name": "python2"
  },
  "language_info": {
   "codemirror_mode": {
    "name": "ipython",
    "version": 2
   },
   "file_extension": ".py",
   "mimetype": "text/x-python",
   "name": "python",
   "nbconvert_exporter": "python",
   "pygments_lexer": "ipython2",
   "version": "2.7.10"
  }
 },
 "nbformat": 4,
 "nbformat_minor": 2
}
