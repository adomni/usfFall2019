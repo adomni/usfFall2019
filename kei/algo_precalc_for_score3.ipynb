{
 "cells": [
  {
   "cell_type": "code",
   "execution_count": 1,
   "metadata": {},
   "outputs": [
    {
     "data": {
      "text/plain": [
       "'%.3f'"
      ]
     },
     "execution_count": 1,
     "metadata": {},
     "output_type": "execute_result"
    }
   ],
   "source": [
    "import numpy as np\n",
    "import numpy.random as random\n",
    "import scipy as sp\n",
    "from pandas import Series, DataFrame\n",
    "import pandas as pd\n",
    "\n",
    "import matplotlib.pyplot as plt\n",
    "import matplotlib as mpl\n",
    "import seaborn as sns\n",
    "%matplotlib inline\n",
    "\n",
    "%precision 3"
   ]
  },
  {
   "cell_type": "code",
   "execution_count": 2,
   "metadata": {},
   "outputs": [
    {
     "data": {
      "text/html": [
       "<div>\n",
       "<style scoped>\n",
       "    .dataframe tbody tr th:only-of-type {\n",
       "        vertical-align: middle;\n",
       "    }\n",
       "\n",
       "    .dataframe tbody tr th {\n",
       "        vertical-align: top;\n",
       "    }\n",
       "\n",
       "    .dataframe thead th {\n",
       "        text-align: right;\n",
       "    }\n",
       "</style>\n",
       "<table border=\"1\" class=\"dataframe\">\n",
       "  <thead>\n",
       "    <tr style=\"text-align: right;\">\n",
       "      <th></th>\n",
       "      <th>billboard_id</th>\n",
       "      <th>as_one_id</th>\n",
       "      <th>as_two_id</th>\n",
       "      <th>as_three_id</th>\n",
       "      <th>count</th>\n",
       "    </tr>\n",
       "  </thead>\n",
       "  <tbody>\n",
       "    <tr>\n",
       "      <th>0</th>\n",
       "      <td>e2c9ff98f0aec63ccd07fd97f286b1d5</td>\n",
       "      <td>46.0</td>\n",
       "      <td>61.0</td>\n",
       "      <td>758.0</td>\n",
       "      <td>2446</td>\n",
       "    </tr>\n",
       "    <tr>\n",
       "      <th>1</th>\n",
       "      <td>e2c9ff98f0aec63ccd07fd97f286b1d5</td>\n",
       "      <td>45.0</td>\n",
       "      <td>61.0</td>\n",
       "      <td>96.0</td>\n",
       "      <td>7855</td>\n",
       "    </tr>\n",
       "    <tr>\n",
       "      <th>2</th>\n",
       "      <td>2ad0b93a74dd30436e53a62406093ecb</td>\n",
       "      <td>45.0</td>\n",
       "      <td>60.0</td>\n",
       "      <td>751.0</td>\n",
       "      <td>158</td>\n",
       "    </tr>\n",
       "    <tr>\n",
       "      <th>3</th>\n",
       "      <td>2f6aa4efcb6beee6b62a021e5c55a5d5</td>\n",
       "      <td>43.0</td>\n",
       "      <td>61.0</td>\n",
       "      <td>65.0</td>\n",
       "      <td>262</td>\n",
       "    </tr>\n",
       "    <tr>\n",
       "      <th>4</th>\n",
       "      <td>ce162c7701657192334b1c0f0a236120</td>\n",
       "      <td>44.0</td>\n",
       "      <td>61.0</td>\n",
       "      <td>1.0</td>\n",
       "      <td>16</td>\n",
       "    </tr>\n",
       "  </tbody>\n",
       "</table>\n",
       "</div>"
      ],
      "text/plain": [
       "                       billboard_id  as_one_id  as_two_id  as_three_id  count\n",
       "0  e2c9ff98f0aec63ccd07fd97f286b1d5       46.0       61.0        758.0   2446\n",
       "1  e2c9ff98f0aec63ccd07fd97f286b1d5       45.0       61.0         96.0   7855\n",
       "2  2ad0b93a74dd30436e53a62406093ecb       45.0       60.0        751.0    158\n",
       "3  2f6aa4efcb6beee6b62a021e5c55a5d5       43.0       61.0         65.0    262\n",
       "4  ce162c7701657192334b1c0f0a236120       44.0       61.0          1.0     16"
      ]
     },
     "execution_count": 2,
     "metadata": {},
     "output_type": "execute_result"
    }
   ],
   "source": [
    "hq_data = pd.read_csv('hq_data/hq_20190308.csv')\n",
    "hq_data.head()"
   ]
  },
  {
   "cell_type": "code",
   "execution_count": 23,
   "metadata": {},
   "outputs": [],
   "source": [
    "audience_ids = ['44', '61', '748']\n",
    "billboard_id1 = '05cc093be9bc7d7a4c491972e235231b' # high\n",
    "# billboard_id1 = 'dbb561c792f78028f262e88ce95f857c' # high\n",
    "# billboard_id2 = '50158cf1c6fded24e3b510d0d6dbd8e3' # low\n",
    "billboard_id2 = '97ee222e0687d37626b2989266640d94' # low\n",
    "# billboard_id2 = '03c393dbf2ae41661307a19457ea2e89' # low\n",
    "# billboard_id2 = '42c5508521fdd113e63172ccd256b74e' # low\n",
    "# billboard_id2 = '6943fd9adccae67d803b28dd8e33a0b3' # low"
   ]
  },
  {
   "cell_type": "code",
   "execution_count": 24,
   "metadata": {},
   "outputs": [
    {
     "data": {
      "text/plain": [
       "billboard_id     object\n",
       "as_one_id       float64\n",
       "as_two_id       float64\n",
       "as_three_id     float64\n",
       "count             int64\n",
       "dtype: object"
      ]
     },
     "execution_count": 24,
     "metadata": {},
     "output_type": "execute_result"
    }
   ],
   "source": [
    "hq_data.dtypes"
   ]
  },
  {
   "cell_type": "code",
   "execution_count": 35,
   "metadata": {},
   "outputs": [
    {
     "data": {
      "text/html": [
       "<div>\n",
       "<style scoped>\n",
       "    .dataframe tbody tr th:only-of-type {\n",
       "        vertical-align: middle;\n",
       "    }\n",
       "\n",
       "    .dataframe tbody tr th {\n",
       "        vertical-align: top;\n",
       "    }\n",
       "\n",
       "    .dataframe thead th {\n",
       "        text-align: right;\n",
       "    }\n",
       "</style>\n",
       "<table border=\"1\" class=\"dataframe\">\n",
       "  <thead>\n",
       "    <tr style=\"text-align: right;\">\n",
       "      <th></th>\n",
       "      <th>billboard_id</th>\n",
       "      <th>as_one_id</th>\n",
       "      <th>as_two_id</th>\n",
       "      <th>as_three_id</th>\n",
       "      <th>count</th>\n",
       "    </tr>\n",
       "  </thead>\n",
       "  <tbody>\n",
       "    <tr>\n",
       "      <th>4934</th>\n",
       "      <td>05cc093be9bc7d7a4c491972e235231b</td>\n",
       "      <td>45.0</td>\n",
       "      <td>60.0</td>\n",
       "      <td>57.0</td>\n",
       "      <td>2924</td>\n",
       "    </tr>\n",
       "    <tr>\n",
       "      <th>13829</th>\n",
       "      <td>05cc093be9bc7d7a4c491972e235231b</td>\n",
       "      <td>45.0</td>\n",
       "      <td>60.0</td>\n",
       "      <td>83.0</td>\n",
       "      <td>393</td>\n",
       "    </tr>\n",
       "    <tr>\n",
       "      <th>38601</th>\n",
       "      <td>05cc093be9bc7d7a4c491972e235231b</td>\n",
       "      <td>46.0</td>\n",
       "      <td>60.0</td>\n",
       "      <td>751.0</td>\n",
       "      <td>820</td>\n",
       "    </tr>\n",
       "    <tr>\n",
       "      <th>101435</th>\n",
       "      <td>05cc093be9bc7d7a4c491972e235231b</td>\n",
       "      <td>45.0</td>\n",
       "      <td>60.0</td>\n",
       "      <td>68.0</td>\n",
       "      <td>1357</td>\n",
       "    </tr>\n",
       "    <tr>\n",
       "      <th>108610</th>\n",
       "      <td>05cc093be9bc7d7a4c491972e235231b</td>\n",
       "      <td>46.0</td>\n",
       "      <td>60.0</td>\n",
       "      <td>828.0</td>\n",
       "      <td>502</td>\n",
       "    </tr>\n",
       "  </tbody>\n",
       "</table>\n",
       "</div>"
      ],
      "text/plain": [
       "                            billboard_id  as_one_id  as_two_id  as_three_id  \\\n",
       "4934    05cc093be9bc7d7a4c491972e235231b       45.0       60.0         57.0   \n",
       "13829   05cc093be9bc7d7a4c491972e235231b       45.0       60.0         83.0   \n",
       "38601   05cc093be9bc7d7a4c491972e235231b       46.0       60.0        751.0   \n",
       "101435  05cc093be9bc7d7a4c491972e235231b       45.0       60.0         68.0   \n",
       "108610  05cc093be9bc7d7a4c491972e235231b       46.0       60.0        828.0   \n",
       "\n",
       "        count  \n",
       "4934     2924  \n",
       "13829     393  \n",
       "38601     820  \n",
       "101435   1357  \n",
       "108610    502  "
      ]
     },
     "execution_count": 35,
     "metadata": {},
     "output_type": "execute_result"
    }
   ],
   "source": [
    "hq_data_sub = hq_data[(hq_data['billboard_id'] == billboard_id1) | (hq_data['billboard_id'] == billboard_id2)]\n",
    "hq_data_sub.head()"
   ]
  },
  {
   "cell_type": "code",
   "execution_count": 36,
   "metadata": {},
   "outputs": [
    {
     "data": {
      "text/html": [
       "<div>\n",
       "<style scoped>\n",
       "    .dataframe tbody tr th:only-of-type {\n",
       "        vertical-align: middle;\n",
       "    }\n",
       "\n",
       "    .dataframe tbody tr th {\n",
       "        vertical-align: top;\n",
       "    }\n",
       "\n",
       "    .dataframe thead th {\n",
       "        text-align: right;\n",
       "    }\n",
       "</style>\n",
       "<table border=\"1\" class=\"dataframe\">\n",
       "  <thead>\n",
       "    <tr style=\"text-align: right;\">\n",
       "      <th></th>\n",
       "      <th>billboard_id</th>\n",
       "      <th>as_one_id</th>\n",
       "      <th>as_two_id</th>\n",
       "      <th>as_three_id</th>\n",
       "      <th>count</th>\n",
       "    </tr>\n",
       "  </thead>\n",
       "  <tbody>\n",
       "    <tr>\n",
       "      <th>130953482</th>\n",
       "      <td>05cc093be9bc7d7a4c491972e235231b</td>\n",
       "      <td>44.0</td>\n",
       "      <td>61.0</td>\n",
       "      <td>748.0</td>\n",
       "      <td>32</td>\n",
       "    </tr>\n",
       "    <tr>\n",
       "      <th>270419688</th>\n",
       "      <td>97ee222e0687d37626b2989266640d94</td>\n",
       "      <td>44.0</td>\n",
       "      <td>61.0</td>\n",
       "      <td>748.0</td>\n",
       "      <td>4</td>\n",
       "    </tr>\n",
       "  </tbody>\n",
       "</table>\n",
       "</div>"
      ],
      "text/plain": [
       "                               billboard_id  as_one_id  as_two_id  \\\n",
       "130953482  05cc093be9bc7d7a4c491972e235231b       44.0       61.0   \n",
       "270419688  97ee222e0687d37626b2989266640d94       44.0       61.0   \n",
       "\n",
       "           as_three_id  count  \n",
       "130953482        748.0     32  \n",
       "270419688        748.0      4  "
      ]
     },
     "execution_count": 36,
     "metadata": {},
     "output_type": "execute_result"
    }
   ],
   "source": [
    "hq_data_sub = hq_data_sub[(hq_data_sub['as_one_id'] == 44.0) & \n",
    "                                                    (hq_data_sub['as_two_id'] == 61.0) & \n",
    "                                                    (hq_data_sub['as_three_id'] == 748.0)]\n",
    "hq_data_sub.head()"
   ]
  },
  {
   "cell_type": "code",
   "execution_count": 37,
   "metadata": {},
   "outputs": [
    {
     "data": {
      "text/html": [
       "<div>\n",
       "<style scoped>\n",
       "    .dataframe tbody tr th:only-of-type {\n",
       "        vertical-align: middle;\n",
       "    }\n",
       "\n",
       "    .dataframe tbody tr th {\n",
       "        vertical-align: top;\n",
       "    }\n",
       "\n",
       "    .dataframe thead th {\n",
       "        text-align: right;\n",
       "    }\n",
       "</style>\n",
       "<table border=\"1\" class=\"dataframe\">\n",
       "  <thead>\n",
       "    <tr style=\"text-align: right;\">\n",
       "      <th></th>\n",
       "      <th>billboard_id</th>\n",
       "      <th>as_one_id</th>\n",
       "      <th>as_two_id</th>\n",
       "      <th>as_three_id</th>\n",
       "      <th>count</th>\n",
       "    </tr>\n",
       "  </thead>\n",
       "  <tbody>\n",
       "    <tr>\n",
       "      <th>270419688</th>\n",
       "      <td>97ee222e0687d37626b2989266640d94</td>\n",
       "      <td>44.0</td>\n",
       "      <td>61.0</td>\n",
       "      <td>748.0</td>\n",
       "      <td>4</td>\n",
       "    </tr>\n",
       "  </tbody>\n",
       "</table>\n",
       "</div>"
      ],
      "text/plain": [
       "                               billboard_id  as_one_id  as_two_id  \\\n",
       "270419688  97ee222e0687d37626b2989266640d94       44.0       61.0   \n",
       "\n",
       "           as_three_id  count  \n",
       "270419688        748.0      4  "
      ]
     },
     "execution_count": 37,
     "metadata": {},
     "output_type": "execute_result"
    }
   ],
   "source": [
    "hq_data_sub[hq_data_sub['billboard_id'] == billboard_id2]"
   ]
  },
  {
   "cell_type": "code",
   "execution_count": 38,
   "metadata": {},
   "outputs": [],
   "source": [
    "hq_data_sub.to_csv('data/hq_counts.csv')"
   ]
  },
  {
   "cell_type": "code",
   "execution_count": 39,
   "metadata": {},
   "outputs": [
    {
     "data": {
      "text/html": [
       "<div>\n",
       "<style scoped>\n",
       "    .dataframe tbody tr th:only-of-type {\n",
       "        vertical-align: middle;\n",
       "    }\n",
       "\n",
       "    .dataframe tbody tr th {\n",
       "        vertical-align: top;\n",
       "    }\n",
       "\n",
       "    .dataframe thead th {\n",
       "        text-align: right;\n",
       "    }\n",
       "</style>\n",
       "<table border=\"1\" class=\"dataframe\">\n",
       "  <thead>\n",
       "    <tr style=\"text-align: right;\">\n",
       "      <th></th>\n",
       "      <th>billboard_id</th>\n",
       "      <th>as_one_id</th>\n",
       "      <th>as_two_id</th>\n",
       "      <th>as_three_id</th>\n",
       "      <th>count</th>\n",
       "    </tr>\n",
       "  </thead>\n",
       "  <tbody>\n",
       "    <tr>\n",
       "      <th>16320</th>\n",
       "      <td>d059faf29c3e130ea0567e909ad9cf98</td>\n",
       "      <td>44.0</td>\n",
       "      <td>61.0</td>\n",
       "      <td>748.0</td>\n",
       "      <td>13</td>\n",
       "    </tr>\n",
       "    <tr>\n",
       "      <th>93247</th>\n",
       "      <td>1117b8e064d09e66a22864826dac152f</td>\n",
       "      <td>44.0</td>\n",
       "      <td>61.0</td>\n",
       "      <td>748.0</td>\n",
       "      <td>90</td>\n",
       "    </tr>\n",
       "    <tr>\n",
       "      <th>96583</th>\n",
       "      <td>e57c19330acfb36f4c309a5be3ece4d7</td>\n",
       "      <td>44.0</td>\n",
       "      <td>61.0</td>\n",
       "      <td>748.0</td>\n",
       "      <td>1</td>\n",
       "    </tr>\n",
       "    <tr>\n",
       "      <th>131787</th>\n",
       "      <td>720ea8eec07356c6217da98da13634c7</td>\n",
       "      <td>44.0</td>\n",
       "      <td>61.0</td>\n",
       "      <td>748.0</td>\n",
       "      <td>60</td>\n",
       "    </tr>\n",
       "    <tr>\n",
       "      <th>170225</th>\n",
       "      <td>b5816a5342e7f2deff89a32f7238ccb7</td>\n",
       "      <td>44.0</td>\n",
       "      <td>61.0</td>\n",
       "      <td>748.0</td>\n",
       "      <td>78</td>\n",
       "    </tr>\n",
       "  </tbody>\n",
       "</table>\n",
       "</div>"
      ],
      "text/plain": [
       "                            billboard_id  as_one_id  as_two_id  as_three_id  \\\n",
       "16320   d059faf29c3e130ea0567e909ad9cf98       44.0       61.0        748.0   \n",
       "93247   1117b8e064d09e66a22864826dac152f       44.0       61.0        748.0   \n",
       "96583   e57c19330acfb36f4c309a5be3ece4d7       44.0       61.0        748.0   \n",
       "131787  720ea8eec07356c6217da98da13634c7       44.0       61.0        748.0   \n",
       "170225  b5816a5342e7f2deff89a32f7238ccb7       44.0       61.0        748.0   \n",
       "\n",
       "        count  \n",
       "16320      13  \n",
       "93247      90  \n",
       "96583       1  \n",
       "131787     60  \n",
       "170225     78  "
      ]
     },
     "execution_count": 39,
     "metadata": {},
     "output_type": "execute_result"
    }
   ],
   "source": [
    "# Get the max count for the given set of audiences. \n",
    "hq_data_sub2 = hq_data[(hq_data['as_one_id'] == 44.0) & \n",
    "                                              (hq_data['as_two_id'] == 61.0) & \n",
    "                                              (hq_data['as_three_id'] == 748.0)]\n",
    "hq_data_sub2.head()"
   ]
  },
  {
   "cell_type": "code",
   "execution_count": 40,
   "metadata": {},
   "outputs": [
    {
     "data": {
      "text/plain": [
       "1208"
      ]
     },
     "execution_count": 40,
     "metadata": {},
     "output_type": "execute_result"
    }
   ],
   "source": [
    "max_count = hq_data_sub2['count'].max()\n",
    "max_count"
   ]
  },
  {
   "cell_type": "code",
   "execution_count": 43,
   "metadata": {},
   "outputs": [
    {
     "data": {
      "text/plain": [
       "billboard_id     max\n",
       "as_one_id          0\n",
       "as_two_id          0\n",
       "as_three_id        0\n",
       "count           1208\n",
       "dtype: object"
      ]
     },
     "execution_count": 43,
     "metadata": {},
     "output_type": "execute_result"
    }
   ],
   "source": [
    "new_data_s = pd.Series(['max', 0, 0, 0, max_count], index=hq_data_sub.columns)\n",
    "new_data_s"
   ]
  },
  {
   "cell_type": "code",
   "execution_count": 44,
   "metadata": {},
   "outputs": [
    {
     "data": {
      "text/html": [
       "<div>\n",
       "<style scoped>\n",
       "    .dataframe tbody tr th:only-of-type {\n",
       "        vertical-align: middle;\n",
       "    }\n",
       "\n",
       "    .dataframe tbody tr th {\n",
       "        vertical-align: top;\n",
       "    }\n",
       "\n",
       "    .dataframe thead th {\n",
       "        text-align: right;\n",
       "    }\n",
       "</style>\n",
       "<table border=\"1\" class=\"dataframe\">\n",
       "  <thead>\n",
       "    <tr style=\"text-align: right;\">\n",
       "      <th></th>\n",
       "      <th>billboard_id</th>\n",
       "      <th>as_one_id</th>\n",
       "      <th>as_two_id</th>\n",
       "      <th>as_three_id</th>\n",
       "      <th>count</th>\n",
       "    </tr>\n",
       "  </thead>\n",
       "  <tbody>\n",
       "    <tr>\n",
       "      <th>2</th>\n",
       "      <td>max</td>\n",
       "      <td>0.0</td>\n",
       "      <td>0.0</td>\n",
       "      <td>0.0</td>\n",
       "      <td>1208</td>\n",
       "    </tr>\n",
       "  </tbody>\n",
       "</table>\n",
       "</div>"
      ],
      "text/plain": [
       "  billboard_id  as_one_id  as_two_id  as_three_id  count\n",
       "2          max        0.0        0.0          0.0   1208"
      ]
     },
     "execution_count": 44,
     "metadata": {},
     "output_type": "execute_result"
    }
   ],
   "source": [
    "hq_data_sub_with_max = hq_data_sub.append(new_data_s, ignore_index=True)\n",
    "max_count_df = hq_data_sub_with_max[hq_data_sub_with_max['billboard_id'] == 'max']\n",
    "max_count_df"
   ]
  },
  {
   "cell_type": "code",
   "execution_count": 46,
   "metadata": {},
   "outputs": [],
   "source": [
    "hq_data_sub_with_max.to_csv('data/hq_counts_with_max.csv')"
   ]
  },
  {
   "cell_type": "code",
   "execution_count": null,
   "metadata": {},
   "outputs": [],
   "source": [
    "# "
   ]
  },
  {
   "cell_type": "code",
   "execution_count": null,
   "metadata": {},
   "outputs": [],
   "source": []
  },
  {
   "cell_type": "code",
   "execution_count": null,
   "metadata": {},
   "outputs": [],
   "source": []
  },
  {
   "cell_type": "code",
   "execution_count": null,
   "metadata": {},
   "outputs": [],
   "source": []
  },
  {
   "cell_type": "code",
   "execution_count": null,
   "metadata": {},
   "outputs": [],
   "source": []
  },
  {
   "cell_type": "code",
   "execution_count": null,
   "metadata": {},
   "outputs": [],
   "source": []
  },
  {
   "cell_type": "code",
   "execution_count": null,
   "metadata": {},
   "outputs": [],
   "source": []
  },
  {
   "cell_type": "code",
   "execution_count": null,
   "metadata": {},
   "outputs": [],
   "source": []
  },
  {
   "cell_type": "code",
   "execution_count": null,
   "metadata": {},
   "outputs": [],
   "source": []
  }
 ],
 "metadata": {
  "kernelspec": {
   "display_name": "Python 3",
   "language": "python",
   "name": "python3"
  },
  "language_info": {
   "codemirror_mode": {
    "name": "ipython",
    "version": 3
   },
   "file_extension": ".py",
   "mimetype": "text/x-python",
   "name": "python",
   "nbconvert_exporter": "python",
   "pygments_lexer": "ipython3",
   "version": "3.7.3"
  }
 },
 "nbformat": 4,
 "nbformat_minor": 2
}
